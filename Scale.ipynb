{
 "cells": [
  {
   "cell_type": "code",
   "execution_count": 1,
   "metadata": {},
   "outputs": [
    {
     "name": "stdout",
     "output_type": "stream",
     "text": [
      "['G#2', 'A2', 'B2', 'C#3', 'D3', 'E3', 'F#3', 'G#3', 'A3', 'B3', 'C#4', 'D4', 'E4', 'F#4']\n",
      "True\n",
      "False\n",
      "Abstract diatonic [<music21.pitch.Pitch C4>, <music21.pitch.Pitch D4>, <music21.pitch.Pitch E4>, <music21.pitch.Pitch F4>, <music21.pitch.Pitch G4>, <music21.pitch.Pitch A4>, <music21.pitch.Pitch B4>, <music21.pitch.Pitch C5>]\n",
      "['G4', 'F4', 'E4', 'D4', 'C4', 'B3', 'A3', 'G3', 'F3', 'E3', 'D3', 'C3', 'B2', 'A2', 'G2']\n",
      "C4\n",
      "A2\n",
      "['E-5', 'G-5', 'A5', 'C6', 'E-6', 'G-6', 'A6', 'C7', 'E-7', 'G-7']\n",
      "F3\n",
      "['C#3', 'E-3', 'F3', 'G3', 'B3', 'D~4', 'F#4', 'A4', 'C#5', 'E-5', 'F5', 'G5', 'B5', 'D~6', 'F#6', 'A6']\n"
     ]
    }
   ],
   "source": [
    "import random\n",
    "from music21 import stream, note, meter, key, tempo,scale,pitch\n",
    "\n",
    "sc1 = scale.MajorScale('a')\n",
    "print([str(p) for p in sc1.getPitches('g2', 'g4')])\n",
    "\n",
    "sc1 = scale.MajorScale('c')\n",
    "print(sc1.isConcrete)\n",
    "\n",
    "sc2 = scale.MajorScale()\n",
    "print(sc2.isConcrete)\n",
    "\n",
    "sc = scale.DiatonicScale()  # abstract, as no defined tonic\n",
    "print(sc.name, sc.getPitches())\n",
    "\n",
    "sc2 = scale.MelodicMinorScale('a')\n",
    "print([str(p) for p in sc2.getPitches('g2', 'g4', direction=scale.Direction.DESCENDING)])\n",
    "\n",
    "myScale = scale.ConcreteScale(pitches=['C4', 'E-4', 'G-4', 'A4'])\n",
    "print(myScale.getTonic())\n",
    "print(myScale.nextPitch('G-2'))\n",
    "print([str(p) for p in myScale.getPitches('E-5', 'G-7')])\n",
    "\n",
    "complexScale = scale.ConcreteScale(\n",
    "    pitches=['C#3', 'E-3', 'F3', 'G3', 'B3', 'D~4', 'F#4', 'A4', 'C#5'])\n",
    "print(complexScale.nextPitch('G3', direction=scale.Direction.DESCENDING))\n",
    "print([str(p) for p in complexScale.getPitches('C3', 'C7')])\n",
    "\n",
    "\n",
    "\n"
   ]
  },
  {
   "cell_type": "code",
   "execution_count": 28,
   "metadata": {},
   "outputs": [
    {
     "name": "stdout",
     "output_type": "stream",
     "text": [
      "[<music21.pitch.Pitch C4>, <music21.pitch.Pitch D4>, <music21.pitch.Pitch E-4>, <music21.pitch.Pitch F4>, <music21.pitch.Pitch G4>, <music21.pitch.Pitch A-4>, <music21.pitch.Pitch B-4>, <music21.pitch.Pitch C5>]\n",
      "<music21.scale.MinorScale B- minor>\n",
      "[<music21.scale.MinorScale A minor>, <music21.scale.MinorScale E minor>]\n",
      "['B minor', 'G# minor', 'F# minor', 'D- minor', 'C# minor', 'C- minor']\n",
      "['G# minor', 'D# minor']\n",
      "<music21.scale.MinorScale B minor>\n",
      "[(3, <music21.scale.MinorScale B minor>), (3, <music21.scale.MinorScale G# minor>), (3, <music21.scale.MinorScale F# minor>), (3, <music21.scale.MinorScale D- minor>)]\n",
      "[(2, <music21.scale.MinorScale B minor>), (2, <music21.scale.MinorScale A minor>), (2, <music21.scale.MinorScale G# minor>), (2, <music21.scale.MinorScale F# minor>)]\n",
      "[(5, <music21.scale.MinorScale A minor>), (5, <music21.scale.MinorScale E minor>), (4, <music21.scale.MinorScale B minor>), (4, <music21.scale.MinorScale G# minor>)]\n",
      "[(3, <music21.scale.MinorScale A minor>), (3, <music21.scale.MinorScale E minor>), (2, <music21.scale.MinorScale B minor>), (2, <music21.scale.MinorScale G# minor>)]\n"
     ]
    }
   ],
   "source": [
    "sc1 = scale.MinorScale()\n",
    "print(sc1.getPitches())\n",
    "print( sc1.derive(['C#', 'E', 'G#','A','A#', 'F']))\n",
    "\n",
    "print(sc1.deriveAll(['C', 'E', 'B']))\n",
    "print([sc.name for sc in sc1.deriveAll(['D-', 'E', 'B'])])\n",
    "scList = sc1.deriveAll(['C#', 'D#', 'F#', 'G#', 'A#'], comparisonAttribute='name')\n",
    "print([sc.name for sc in scList])\n",
    "print(sc1.deriveByDegree(1, 'B'))\n",
    "print(sc1.deriveRanked(['D-', 'E', 'B']))\n",
    "print(sc1.deriveRanked(['D-', 'E', 'B'], comparisonAttribute='name'))\n",
    "print(sc1.deriveRanked(['C', 'E', 'E', 'E', 'B']))\n",
    "print(sc1.deriveRanked(['C', 'E', 'E', 'E', 'B'], removeDuplicates=True))\n"
   ]
  },
  {
   "cell_type": "code",
   "execution_count": 36,
   "metadata": {},
   "outputs": [
    {
     "name": "stdout",
     "output_type": "stream",
     "text": [
      "[(3, <music21.scale.ConcreteScale E Concrete>), (3, <music21.scale.ConcreteScale D- Concrete>), (3, <music21.scale.ConcreteScale C# Concrete>), (2, <music21.scale.ConcreteScale B Concrete>), (2, <music21.scale.ConcreteScale A Concrete>), (2, <music21.scale.ConcreteScale G# Concrete>)]\n",
      "(3, None)\n",
      "(3, <music21.pitch.Accidental flat>)\n",
      "(7, None)\n",
      "(7, <music21.pitch.Accidental flat>)\n",
      "(7, <music21.pitch.Accidental double-flat>)\n",
      "1\n",
      "7\n",
      "True\n",
      "1\n",
      "True\n",
      "1\n"
     ]
    }
   ],
   "source": [
    "e = scale.ConcreteScale(pitches=['A4', 'B-4', 'C5', 'D#5', 'E5', 'F5', 'G#5', 'A5'])\n",
    "bestScales = e.deriveRanked(['C', 'E', 'G'], resultsReturned=6)\n",
    "print(bestScales)\n",
    "\n",
    "cMaj = key.Key('C')\n",
    "print(cMaj.getScaleDegreeAndAccidentalFromPitch(pitch.Pitch('E')))\n",
    "print(cMaj.getScaleDegreeAndAccidentalFromPitch(pitch.Pitch('E-')))\n",
    "\n",
    "aMin = scale.MelodicMinorScale('a')\n",
    "print(aMin.getScaleDegreeAndAccidentalFromPitch(pitch.Pitch('G'),\n",
    "                                          direction=scale.Direction.DESCENDING))\n",
    "\n",
    "print(aMin.getScaleDegreeAndAccidentalFromPitch(pitch.Pitch('G'),\n",
    "                                          direction=scale.Direction.ASCENDING))\n",
    "\n",
    "print(aMin.getScaleDegreeAndAccidentalFromPitch(pitch.Pitch('G-'),\n",
    "                                          direction=scale.Direction.ASCENDING))\n",
    "\n",
    "sc = scale.MajorScale('e-')\n",
    "\n",
    "print(sc.getScaleDegreeFromPitch('e-2'))\n",
    "\n",
    "print(sc.getScaleDegreeFromPitch('d'))\n",
    "\n",
    "print(sc.getScaleDegreeFromPitch('d#', comparisonAttribute='name') is None)\n",
    "\n",
    "print(sc.getScaleDegreeFromPitch('d#', comparisonAttribute='pitchClass'))\n",
    "\n",
    "print(sc.getScaleDegreeFromPitch('e') is None)\n",
    "\n",
    "print(sc.getScaleDegreeFromPitch('e', comparisonAttribute='step'))\n",
    "\n"
   ]
  },
  {
   "cell_type": "code",
   "execution_count": 78,
   "metadata": {},
   "outputs": [
    {
     "name": "stdout",
     "output_type": "stream",
     "text": [
      "(3, None)\n",
      "3\n",
      "['D4', 'E4', 'F4', 'G4', 'A4', 'B4']\n",
      "<music21.chord.Chord C4 D4 E4 F4 G4 A4 B4 C5>\n",
      "True\n",
      "E5\n",
      "F5\n",
      "G6\n",
      "F4\n",
      "A4\n",
      "D6\n",
      "[<music21.pitch.Pitch E4>, <music21.pitch.Pitch B4>]\n",
      "['E-2', 'B-2', 'F3', 'C4', 'G4', 'D5', 'A5']\n",
      "<music21.roman.RomanNumeral I in C major>\n",
      "<music21.scale.MajorScale G major>\n",
      "<music21.chord.Chord C4 D6 E4 F4 G4 A4 B4 C5>\n",
      "<bound method ConcreteScale.tune of <music21.scale.MajorScale C major>>\n",
      "G4\n",
      "B4\n",
      "<music21.scale.MajorScale C major>\n",
      "<music21.scale.MinorScale C minor>\n",
      "<music21.scale.MinorScale A minor>\n"
     ]
    }
   ],
   "source": [
    "cMaj = key.Key('C')\n",
    "print(cMaj.getScaleDegreeAndAccidentalFromPitch(pitch.Pitch('E')))\n",
    "print(cMaj.getScaleDegreeFromPitch(pitch.Pitch('E-'),\n",
    "                             direction=scale.Direction.ASCENDING,\n",
    "                             comparisonAttribute='step'))\n",
    "\n",
    "sc1 = scale.MajorScale('C')\n",
    "print([str(p) for p in sc1.findMissing(['C'])])\n",
    "\n",
    "print(sc1.getChord())\n",
    "\n",
    "print(sc1.isNext('d4', 'c4', scale.Direction.ASCENDING))\n",
    "\n",
    "print(sc1.nextPitch('e-5'))\n",
    "\n",
    "print(sc1.nextPitch('e-5', stepSize=2))\n",
    "\n",
    "print(sc1.nextPitch('e-6', stepSize=3))\n",
    "\n",
    "print(sc1.nextPitch('g4', scale.Direction.DESCENDING))\n",
    "print(sc1.nextPitch('g4', scale.Direction.ASCENDING))\n",
    "print(sc1.pitchFromDegree(2))\n",
    "print(sc1.pitchesFromScaleDegrees([3, 7]))\n",
    "print([str(p) for p in sc.pitchesFromScaleDegrees([3, 7], 'c2', 'c6')])\n",
    "print(sc1.romanNumeral(1))\n",
    "sc2 = sc1.transpose('p5')\n",
    "print(sc2)\n",
    "print(sc1.getChord())\n",
    "print(sc1.tune)\n",
    "print(sc1.getDominant())\n",
    "print(sc1.getLeadingTone())\n",
    "print(sc1.getParallelMajor())\n",
    "print(sc1.getParallelMinor())\n",
    "print(sc1.getRelativeMinor())\n",
    "\n",
    "\n"
   ]
  },
  {
   "cell_type": "code",
   "execution_count": 72,
   "metadata": {},
   "outputs": [
    {
     "name": "stdout",
     "output_type": "stream",
     "text": [
      "['G2', 'A-2', 'A2', 'B-2', 'B2', 'C3', 'C#3', 'D3', 'E-3', 'E3', 'F3', 'F#3', 'G3']\n",
      "12\n",
      "D3 F3 1\n",
      "['B-2', 'F3', 'C4', 'G4', 'D5', 'A5', 'E6']\n"
     ]
    }
   ],
   "source": [
    "sc = scale.ChromaticScale('g2')\n",
    "print([str(p) for p in sc.pitches])\n",
    "print(sc.abstract.getDegreeMaxUnique())\n",
    "print(sc.pitchFromDegree(8),sc.pitchFromDegree(11),sc.getScaleDegreeFromPitch('g2', comparisonAttribute='pitchClass'))\n",
    "\n",
    "sc = scale.CyclicalScale('c4', ['P5'])  # can give one list\n",
    "sc.pitches\n",
    "print([str(p) for p in sc.getPitches('g2', 'g6')])"
   ]
  },
  {
   "cell_type": "code",
   "execution_count": 21,
   "metadata": {},
   "outputs": [
    {
     "name": "stdout",
     "output_type": "stream",
     "text": [
      "['D4', 'E4', 'F4', 'G4', 'A4', 'B4', 'C5', 'D5']\n",
      "['D4', 'E4', 'F4', 'G4', 'A4', 'B4', 'C5', 'D5']\n",
      "['D4', 'E4', 'F4', 'G4', 'A4', 'B4', 'C5', 'D5']\n",
      "['D4', 'E4', 'F4', 'G4', 'A4', 'B4', 'C5', 'D5']\n"
     ]
    },
    {
     "data": {
      "text/plain": [
       "<music21.pitch.Pitch B3>"
      ]
     },
     "execution_count": 21,
     "metadata": {},
     "output_type": "execute_result"
    }
   ],
   "source": [
    "sc2 = scale.DorianScale('d')\n",
    "print([str(p) for p in sc2.pitches])\n",
    "\n",
    "sc = scale.DorianScale(pitch.Pitch('d'))\n",
    "print([str(p) for p in sc2.pitches])\n",
    "\n",
    "sc3 = scale.HarmonicMinorScale('e4')\n",
    "print([str(p) for p in sc2.pitches])\n",
    "\n",
    "sc2 = scale.HypomixolydianScale(pitch.Pitch('g'))\n",
    "print([str(p) for p in sc.pitches])\n",
    "\n",
    "sc = scale.HypomixolydianScale(pitch.Pitch('e'))\n",
    "[str(p) for p in sc.pitches]\n",
    "sc.getPitches()[0]\n",
    "\n",
    "\n"
   ]
  },
  {
   "cell_type": "code",
   "execution_count": null,
   "metadata": {},
   "outputs": [],
   "source": []
  }
 ],
 "metadata": {
  "kernelspec": {
   "display_name": "Python 3",
   "language": "python",
   "name": "python3"
  },
  "language_info": {
   "codemirror_mode": {
    "name": "ipython",
    "version": 3
   },
   "file_extension": ".py",
   "mimetype": "text/x-python",
   "name": "python",
   "nbconvert_exporter": "python",
   "pygments_lexer": "ipython3",
   "version": "3.10.5"
  }
 },
 "nbformat": 4,
 "nbformat_minor": 2
}
