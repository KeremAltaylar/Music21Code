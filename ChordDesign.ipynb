{
 "cells": [
  {
   "cell_type": "code",
   "execution_count": 2,
   "metadata": {},
   "outputs": [
    {
     "name": "stdout",
     "output_type": "stream",
     "text": [
      "C         [C3, E3, G3]\n",
      "Cm        [C3, E-3, G3]\n",
      "C+        [C3, E3, G#3]\n",
      "Cdim      [C3, E-3, G-3]\n",
      "C7        [C3, E3, G3, B-3]\n",
      "CM7       [C3, E3, G3, B3]\n",
      "Cm7       [C3, E-3, G3, B-3]\n",
      "Cdim7     [C3, E-3, G-3, B--3]\n",
      "C7+       [C3, E3, G#3, B-3]\n",
      "Cm7b5     [C3, E-3, G-3, B-3]\n",
      "CmM7      [C3, E-3, G3, B3]\n",
      "C6        [C3, E3, G3, A3]\n",
      "Cm6       [C3, E-3, G3, A3]\n",
      "C9        [C3, E3, G3, B-3, D4]\n",
      "CMaj9     [C3, E3, G3, B3, D4]\n",
      "Cm9       [C3, E-3, G3, B-3, D4]\n",
      "C11       [C2, E2, G2, B-2, D3, F3]\n",
      "CMaj11    [C2, E2, G2, B2, D3, F3]\n",
      "Cm11      [C2, E-2, G2, B-2, D3, F3]\n",
      "C13       [C2, E2, G2, B-2, D3, F3, A3]\n",
      "CMaj13    [C2, E2, G2, B2, D3, F3, A3]\n",
      "Cm13      [C2, E-2, G2, B-2, D3, F3, A3]\n",
      "Csus2     [C3, D3, G3]\n",
      "Csus4     [C3, F3, G3]\n",
      "CN6       [C3, D-3, E3, G-3]\n",
      "CIt+6     [C3, F#3, A-3]\n",
      "CFr+6     [C3, D3, F#3, A-3]\n",
      "CGr+6     [C3, E-3, F#3, A-3]\n",
      "Cpedal    [C3]\n",
      "Cpower    [C3, G3]\n",
      "Ctristan  [C3, D#3, F#3, A#3]\n",
      "C/E       [E3, G3, C4]\n",
      "Cm7/E-    [E-3, G3, B-3, C4]\n",
      "Cadd2     [C3, D3, E3, G3]\n",
      "C7omit3   [C3, G3, B-3]\n"
     ]
    }
   ],
   "source": [
    "import music21\n",
    "from music21 import harmony\n",
    "symbols = ['', 'm', '+', 'dim', '7',\n",
    "           'M7', 'm7', 'dim7', '7+', 'm7b5',  # half-diminished\n",
    "           'mM7', '6', 'm6', '9', 'Maj9', 'm9',\n",
    "           '11', 'Maj11', 'm11', '13',\n",
    "           'Maj13', 'm13', 'sus2', 'sus4',\n",
    "           'N6', 'It+6', 'Fr+6', 'Gr+6', 'pedal',\n",
    "           'power', 'tristan', '/E', 'm7/E-', 'add2',\n",
    "           '7omit3',]\n",
    "for s in symbols:\n",
    "    chordSymbolName = 'C' + s\n",
    "    h = harmony.ChordSymbol(chordSymbolName)\n",
    "    pitchNames = [str(p) for p in h.pitches]\n",
    "    print('%-10s%s' % (chordSymbolName, '[' + (', '.join(pitchNames)) + ']'))\n"
   ]
  },
  {
   "cell_type": "code",
   "execution_count": null,
   "metadata": {},
   "outputs": [],
   "source": []
  }
 ],
 "metadata": {
  "kernelspec": {
   "display_name": "Python 3",
   "language": "python",
   "name": "python3"
  },
  "language_info": {
   "codemirror_mode": {
    "name": "ipython",
    "version": 3
   },
   "file_extension": ".py",
   "mimetype": "text/x-python",
   "name": "python",
   "nbconvert_exporter": "python",
   "pygments_lexer": "ipython3",
   "version": "3.10.5"
  }
 },
 "nbformat": 4,
 "nbformat_minor": 2
}
