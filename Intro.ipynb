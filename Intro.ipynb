{
 "cells": [
  {
   "cell_type": "code",
   "execution_count": 3,
   "metadata": {},
   "outputs": [],
   "source": [
    "#Imports \n",
    "from music21 import *\n",
    "from IPython.display import Image\n",
    "\n",
    "# Auxiliary Function to Display Musical Score\n",
    "def get_score_png():\n",
    "    filename = ! ls *.png -Art | tail -n 1\n",
    "    return(filename[0])"
   ]
  },
  {
   "cell_type": "code",
   "execution_count": 2,
   "metadata": {},
   "outputs": [],
   "source": [
    "i = interval.Interval('m3')"
   ]
  },
  {
   "cell_type": "code",
   "execution_count": 3,
   "metadata": {},
   "outputs": [
    {
     "name": "stdout",
     "output_type": "stream",
     "text": [
      "m3\n",
      "Minor Third\n",
      "3\n"
     ]
    }
   ],
   "source": [
    "print(i.semiSimpleName)\n",
    "print(i.niceName) \n",
    "print(i.semitones)"
   ]
  },
  {
   "cell_type": "code",
   "execution_count": 4,
   "metadata": {},
   "outputs": [
    {
     "name": "stdout",
     "output_type": "stream",
     "text": [
      "The Minor Pentatonic Scale consists of the following intervals:\n",
      "The interval symbol m3, has a name Minor Third and consists of 3 semitones.\n",
      "The interval symbol P4, has a name Perfect Fourth and consists of 5 semitones.\n",
      "The interval symbol P5, has a name Perfect Fifth and consists of 7 semitones.\n",
      "The interval symbol m7, has a name Minor Seventh and consists of 10 semitones.\n"
     ]
    }
   ],
   "source": [
    "list_of_intervals=['m3', 'p4', 'p5', 'm7']\n",
    "print(\"The Minor Pentatonic Scale consists of the following intervals:\")\n",
    "for interval_symbol in list_of_intervals:\n",
    "    i=interval.Interval(interval_symbol)\n",
    "    print(\"The interval symbol %s, has a name %s and consists of %s semitones.\" % (i.semiSimpleName, i.niceName,  i.semitones))"
   ]
  },
  {
   "cell_type": "code",
   "execution_count": 14,
   "metadata": {},
   "outputs": [],
   "source": [
    "\n",
    "Cmajor = chord.Chord(['C','E','G','B'])"
   ]
  },
  {
   "cell_type": "code",
   "execution_count": 13,
   "metadata": {},
   "outputs": [
    {
     "name": "stdout",
     "output_type": "stream",
     "text": [
      "C Major Scale ['C3', 'D3', 'E3', 'F3', 'G3', 'A3', 'B3', 'C4']\n"
     ]
    }
   ],
   "source": [
    "CMajorScale=scale.MajorScale(pitch.Pitch('C3'))\n",
    "print(\"C Major Scale\",[str(p) for p in CMajorScale.pitches])"
   ]
  },
  {
   "cell_type": "code",
   "execution_count": 11,
   "metadata": {},
   "outputs": [],
   "source": [
    "# Function to shift the Tonic to the Desired Degree of a Scale\n",
    "def shift_notes(list_name, desired_degree):\n",
    "    tmp_list=list(list_name)\n",
    "    for i in range(desired_degree-1):\n",
    "        tmp_list.pop(0)\n",
    "        tmp_list.append(tmp_list[0].transpose('P8'))\n",
    "    return tmp_list"
   ]
  },
  {
   "cell_type": "code",
   "execution_count": 15,
   "metadata": {},
   "outputs": [],
   "source": [
    "notes_from_scale=[note.Note(p) for p in CMajorScale.pitches]\n"
   ]
  },
  {
   "cell_type": "code",
   "execution_count": 16,
   "metadata": {},
   "outputs": [],
   "source": [
    "def harmonic_field(listOfNotes):\n",
    "    chord_list=[]\n",
    "    for i in range(len(listOfNotes)-1):\n",
    "        chord_list.append(chord.Chord(shift_notes(listOfNotes,i+1)[::2]))\n",
    "    return chord_list"
   ]
  },
  {
   "cell_type": "code",
   "execution_count": 17,
   "metadata": {},
   "outputs": [
    {
     "data": {
      "text/plain": [
       "['C-major seventh chord',\n",
       " 'D-minor seventh chord',\n",
       " 'E-minor seventh chord',\n",
       " 'F-major seventh chord',\n",
       " 'G-dominant seventh chord',\n",
       " 'A-minor seventh chord',\n",
       " 'B-half-diminished seventh chord']"
      ]
     },
     "execution_count": 17,
     "metadata": {},
     "output_type": "execute_result"
    }
   ],
   "source": [
    "[c.pitchedCommonName for c in harmonic_field(notes_from_scale)]\n"
   ]
  },
  {
   "cell_type": "code",
   "execution_count": 18,
   "metadata": {},
   "outputs": [
    {
     "data": {
      "text/plain": [
       "['Cmaj7', 'Dm7', 'Em7', 'Fmaj7', 'G7', 'Am7', 'B/o7']"
      ]
     },
     "execution_count": 18,
     "metadata": {},
     "output_type": "execute_result"
    }
   ],
   "source": [
    "harmonicFieldCMajorScale=[harmony.chordSymbolFigureFromChord(c) for c in harmonic_field(notes_from_scale)]\n",
    "harmonicFieldCMajorScale"
   ]
  },
  {
   "cell_type": "code",
   "execution_count": 19,
   "metadata": {},
   "outputs": [],
   "source": [
    "s = stream.Score()\n",
    "s.timeSignature = meter.TimeSignature('4/4')\n",
    "s.append(clef.TrebleClef())\n",
    "s.append(key.KeySignature(0))\n",
    "s.append(note.Rest(quarterLength=4))\n",
    "for c in harmonic_field(notes_from_scale):\n",
    "    d=duration.Duration(4.0)\n",
    "    c.duration=d\n",
    "    c.addLyric(harmony.chordSymbolFigureFromChord(c))\n",
    "    s.append(c)"
   ]
  },
  {
   "cell_type": "code",
   "execution_count": 20,
   "metadata": {},
   "outputs": [
    {
     "name": "stderr",
     "output_type": "stream",
     "text": [
      "Changing working directory to: `/var/folders/b6/gb7vr5q57qx52v252hgbwg5m0000gn/T/music21'\n",
      "Processing `/var/folders/b6/gb7vr5q57qx52v252hgbwg5m0000gn/T/music21/tmphhorskib.ly'\n",
      "Parsing...\n",
      "Interpreting music...[8]\n",
      "Preprocessing graphical objects...Fontconfig warning: ignoring UTF-8: not a valid region tag\n",
      "\n",
      "Calculating line breaks... \n",
      "Drawing systems... \n",
      "Layout output to `tmphhorskib.ly.eps'...\n",
      "Converting to PNG...\n",
      "Deleting `tmphhorskib.ly.eps'...\n",
      "Layout output to `tmphhorskib.ly-1.eps'...\n",
      "Writing tmphhorskib.ly-systems.texi...\n",
      "Writing tmphhorskib.ly-systems.tex...\n",
      "Writing tmphhorskib.ly-systems.count...\n",
      "Success: compilation successfully completed\n"
     ]
    },
    {
     "name": "stdout",
     "output_type": "stream",
     "text": [
      "Harmonic Field of C Major\n"
     ]
    }
   ],
   "source": [
    "s.show('lily.png')\n",
    "print(\"Harmonic Field of C Major\")\n",
    "#Image(filename=get_score_png())"
   ]
  },
  {
   "cell_type": "code",
   "execution_count": 21,
   "metadata": {},
   "outputs": [
    {
     "data": {
      "text/html": [
       "\n",
       "                <div id='midiPlayerDiv78'></div>\n",
       "                <link rel=\"stylesheet\" href=\"//cuthbertLab.github.io/music21j/css/m21.css\"\n",
       "                    type=\"text/css\" />\n",
       "                <script>\n",
       "                require.config({\n",
       "                    paths: {'music21': '//cuthbertLab.github.io/music21j/src/music21'}\n",
       "                });\n",
       "                require(['music21'], function() {\n",
       "                               mp = new music21.miditools.MidiPlayer();\n",
       "                               mp.addPlayer('#midiPlayerDiv78');\n",
       "                               mp.base64Load('data:audio/midi;base64,TVRoZAAAAAYAAQABBABNVHJrAAABAwD/AwAA4ABAAP9ZAgAAAP9YBAQCGAigAJAwWgCQNFoAkDdaAJA7WqAAgDAAAIA0AACANwAAgDsAAJAyWgCQNVoAkDlaAJA8WqAAgDIAAIA1AACAOQAAgDwAAJA0WgCQN1oAkDtaAJA+WqAAgDQAAIA3AACAOwAAgD4AAJA1WgCQOVoAkDxaAJBAWqAAgDUAAIA5AACAPAAAgEAAAJA3WgCQO1oAkD5aAJBBWqAAgDcAAIA7AACAPgAAgEEAAJA5WgCQPFoAkEBaAJBDWqAAgDkAAIA8AACAQAAAgEMAAJA7WgCQPloAkEFaAJBFWqAAgDsAAIA+AACAQQAAgEUAiAD/LwA=');\n",
       "                        });\n",
       "                </script>"
      ],
      "text/plain": [
       "<IPython.core.display.HTML object>"
      ]
     },
     "metadata": {},
     "output_type": "display_data"
    }
   ],
   "source": [
    "s.show('midi')"
   ]
  },
  {
   "cell_type": "code",
   "execution_count": null,
   "metadata": {},
   "outputs": [],
   "source": []
  }
 ],
 "metadata": {
  "kernelspec": {
   "display_name": "Python 3.10.5 64-bit",
   "language": "python",
   "name": "python3"
  },
  "language_info": {
   "codemirror_mode": {
    "name": "ipython",
    "version": 3
   },
   "file_extension": ".py",
   "mimetype": "text/x-python",
   "name": "python",
   "nbconvert_exporter": "python",
   "pygments_lexer": "ipython3",
   "version": "3.10.5"
  },
  "orig_nbformat": 4,
  "vscode": {
   "interpreter": {
    "hash": "aee8b7b246df8f9039afb4144a1f6fd8d2ca17a180786b69acc140d282b71a49"
   }
  }
 },
 "nbformat": 4,
 "nbformat_minor": 2
}
