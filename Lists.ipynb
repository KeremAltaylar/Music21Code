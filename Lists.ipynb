{
 "cells": [
  {
   "cell_type": "code",
   "execution_count": 1,
   "metadata": {},
   "outputs": [],
   "source": [
    "import music21\n",
    "import pathlib\n",
    "music21.environment.set('musescoreDirectPNGPath', \n",
    "                        pathlib.PosixPath('/Applications/MuseScore 4.app/Contents/MacOS/mscore'))\n",
    "from music21 import *"
   ]
  },
  {
   "cell_type": "code",
   "execution_count": 5,
   "metadata": {},
   "outputs": [
    {
     "name": "stdout",
     "output_type": "stream",
     "text": [
      "[100, [1, 2, 3, [10, 20, 30]]]\n",
      "30\n",
      "1\n",
      "2\n",
      "3\n",
      "[10, 20, 30]\n"
     ]
    }
   ],
   "source": [
    "listA = [10, 20, 30]\n",
    "listB = [1, 2, 3, listA]\n",
    "listC = [100,listB]\n",
    "print(listC)\n",
    "print(listB[3][2])\n",
    "for number in listB:\n",
    "    print(number)"
   ]
  },
  {
   "cell_type": "code",
   "execution_count": 7,
   "metadata": {},
   "outputs": [
    {
     "name": "stdout",
     "output_type": "stream",
     "text": [
      "1\n",
      "2\n",
      "3\n",
      "10\n",
      "20\n",
      "30\n"
     ]
    }
   ],
   "source": [
    "for thing in listB:\n",
    "    if isinstance(thing, list):\n",
    "        for number in thing:\n",
    "            print(number)\n",
    "    else:\n",
    "        print(thing)"
   ]
  },
  {
   "cell_type": "code",
   "execution_count": 8,
   "metadata": {},
   "outputs": [
    {
     "name": "stdout",
     "output_type": "stream",
     "text": [
      "100\n",
      "1\n",
      "2\n",
      "3\n",
      "10\n",
      "20\n",
      "30\n"
     ]
    }
   ],
   "source": [
    "for thing in listC:\n",
    "    if isinstance(thing, list):\n",
    "        for innerThing in thing:\n",
    "            if isinstance(innerThing, list):\n",
    "                for number in innerThing:\n",
    "                    print(number)\n",
    "            else:\n",
    "                print(innerThing)\n",
    "    else:\n",
    "        print(thing)"
   ]
  },
  {
   "cell_type": "code",
   "execution_count": 11,
   "metadata": {},
   "outputs": [
    {
     "name": "stdout",
     "output_type": "stream",
     "text": [
      "100\n",
      "1\n",
      "2\n",
      "3\n",
      "10\n",
      "20\n",
      "30\n"
     ]
    },
    {
     "data": {
      "text/plain": [
       "8"
      ]
     },
     "execution_count": 11,
     "metadata": {},
     "output_type": "execute_result"
    }
   ],
   "source": [
    "def flatPrint(myList):\n",
    "    for thing in myList:\n",
    "        if isinstance(thing, list):\n",
    "            flatPrint(thing)\n",
    "        else:\n",
    "            print(thing)\n",
    "flatPrint(listC)\n",
    "def cubeMe(number):\n",
    "    return number * number * number\n",
    "x = cubeMe(2)\n",
    "x\n"
   ]
  },
  {
   "cell_type": "code",
   "execution_count": null,
   "metadata": {},
   "outputs": [],
   "source": []
  }
 ],
 "metadata": {
  "kernelspec": {
   "display_name": "Python 3",
   "language": "python",
   "name": "python3"
  },
  "language_info": {
   "codemirror_mode": {
    "name": "ipython",
    "version": 3
   },
   "file_extension": ".py",
   "mimetype": "text/x-python",
   "name": "python",
   "nbconvert_exporter": "python",
   "pygments_lexer": "ipython3",
   "version": "3.10.5"
  },
  "orig_nbformat": 4
 },
 "nbformat": 4,
 "nbformat_minor": 2
}
