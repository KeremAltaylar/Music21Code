{
 "cells": [
  {
   "cell_type": "code",
   "execution_count": 1,
   "metadata": {},
   "outputs": [],
   "source": [
    "import music21\n",
    "import pathlib\n",
    "from icecream import ic\n",
    "music21.environment.set('musescoreDirectPNGPath', \n",
    "                        pathlib.PosixPath('/Applications/MuseScore 4.app/Contents/MacOS/mscore'))\n",
    "from music21 import *"
   ]
  },
  {
   "cell_type": "code",
   "execution_count": 6,
   "metadata": {},
   "outputs": [
    {
     "data": {
      "text/plain": [
       "'/Users/metalblade/Desktop/Archieve/CODE/Python/Music21/Output/output.xml'"
      ]
     },
     "execution_count": 6,
     "metadata": {},
     "output_type": "execute_result"
    }
   ],
   "source": [
    "melody = stream.Stream()\n",
    "melody.append(note.Note(\"C4\", quarterLength=1.0))\n",
    "melody.append(note.Note(\"D4\", quarterLength=1.0))\n",
    "melody.append(note.Note(\"E4\", quarterLength=1.0))\n",
    "# Export the melody to an XML file\n",
    "melody.write(\"musicxml\", \"/Users/metalblade/Desktop/Archieve/CODE/Python/Music21/Output/output.xml\")"
   ]
  }
 ],
 "metadata": {
  "kernelspec": {
   "display_name": "Python 3",
   "language": "python",
   "name": "python3"
  },
  "language_info": {
   "codemirror_mode": {
    "name": "ipython",
    "version": 3
   },
   "file_extension": ".py",
   "mimetype": "text/x-python",
   "name": "python",
   "nbconvert_exporter": "python",
   "pygments_lexer": "ipython3",
   "version": "3.10.5"
  },
  "orig_nbformat": 4
 },
 "nbformat": 4,
 "nbformat_minor": 2
}
